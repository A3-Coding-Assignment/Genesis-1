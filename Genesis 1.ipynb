{
 "cells": [
  {
   "cell_type": "code",
   "execution_count": 2,
   "metadata": {},
   "outputs": [
    {
     "name": "stdout",
     "output_type": "stream",
     "text": [
      "showing info https://raw.githubusercontent.com/nltk/nltk_data/gh-pages/index.xml\n"
     ]
    },
    {
     "data": {
      "text/plain": [
       "True"
      ]
     },
     "execution_count": 2,
     "metadata": {},
     "output_type": "execute_result"
    }
   ],
   "source": [
    "import nltk\n",
    "nltk.download()"
   ]
  },
  {
   "cell_type": "code",
   "execution_count": 4,
   "metadata": {},
   "outputs": [
    {
     "data": {
      "text/plain": [
       "<_io.TextIOWrapper name='C:\\\\Users\\\\jingn\\\\Documents\\\\UTS\\\\Coding Assignment/Genesis1.txt' mode='r' encoding='cp1252'>"
      ]
     },
     "execution_count": 4,
     "metadata": {},
     "output_type": "execute_result"
    }
   ],
   "source": [
    "import os\n",
    "open(os.getcwd()+ \"/Genesis1.txt\", 'r')"
   ]
  },
  {
   "cell_type": "code",
   "execution_count": 8,
   "metadata": {},
   "outputs": [
    {
     "name": "stdout",
     "output_type": "stream",
     "text": [
      "['GENESIS 1\\n', 'The Beginning\\n', '1In the beginning God created the heavens and the earth. 2Now the earth was formless and empty, darkness was over the surface of the deep, and the Spirit of God was hovering over the waters.\\n', '3And God said, “Let there be light,” and there was light. 4God saw that the light was good, and he separated the light from the darkness. 5God called the light “day,” and the darkness he called “night.” And there was evening, and there was morning—the first day.\\n', '6And God said, “Let there be a vault between the waters to separate water from water.” 7So God made the vault and separated the water under the vault from the water above it. And it was so. 8God called the vault “sky.” And there was evening, and there was morning—the second day.\\n', '9And God said, “Let the water under the sky be gathered to one place, and let dry ground appear.” And it was so. 10God called the dry ground “land,” and the gathered waters he called “seas.” And God saw that it was good.\\n', '11Then God said, “Let the land produce vegetation: seed-bearing plants and trees on the land that bear fruit with seed in it, according to their various kinds.” And it was so. 12The land produced vegetation: plants bearing seed according to their kinds and trees bearing fruit with seed in it according to their kinds. And God saw that it was good. 13And there was evening, and there was morning—the third day.\\n', '14And God said, “Let there be lights in the vault of the sky to separate the day from the night, and let them serve as signs to mark sacred times, and days and years, 15and let them be lights in the vault of the sky to give light on the earth.” And it was so. 16God made two great lights—the greater light to govern the day and the lesser light to govern the night. He also made the stars. 17God set them in the vault of the sky to give light on the earth, 18to govern the day and the night, and to separate light from darkness. And God saw that it was good. 19And there was evening, and there was morning—the fourth day.\\n', '20And God said, “Let the water teem with living creatures, and let birds fly above the earth across the vault of the sky.” 21So God created the great creatures of the sea and every living thing with which the water teems and that moves about in it, according to their kinds, and every winged bird according to its kind. And God saw that it was good. 22God blessed them and said, “Be fruitful and increase in number and fill the water in the seas, and let the birds increase on the earth.” 23And there was evening, and there was morning—the fifth day.\\n', '24And God said, “Let the land produce living creatures according to their kinds: the livestock, the creatures that move along the ground, and the wild animals, each according to its kind.” And it was so. 25God made the wild animals according to their kinds, the livestock according to their kinds, and all the creatures that move along the ground according to their kinds. And God saw that it was good.\\n', '26Then God said, “Let us make mankind in our image, in our likeness, so that they may rule over the fish in the sea and the birds in the sky, over the livestock and all the wild animals, and over all the creatures that move along the ground.”\\n', '27So God created mankind in his own image,\\n', 'in the image of God he created them;\\n', 'male and female he created them.\\n', '28God blessed them and said to them, “Be fruitful and increase in number; fill the earth and subdue it. Rule over the fish in the sea and the birds in the sky and over every living creature that moves on the ground.”\\n', '29Then God said, “I give you every seed-bearing plant on the face of the whole earth and every tree that has fruit with seed in it. They will be yours for food. 30And to all the beasts of the earth and all the birds in the sky and all the creatures that move along the ground—everything that has the breath of life in it—I give every green plant for food.” And it was so.\\n', '31God saw all that he had made, and it was very good. And there was evening, and there was morning—the sixth day.']\n"
     ]
    }
   ],
   "source": [
    "file = open('Genesis1.txt', 'r', encoding='utf-8')\n",
    "f =file.readlines()\n",
    "print(f)"
   ]
  },
  {
   "cell_type": "code",
   "execution_count": 9,
   "metadata": {},
   "outputs": [
    {
     "name": "stdout",
     "output_type": "stream",
     "text": [
      "<_io.TextIOWrapper name='C:\\\\Users\\\\jingn\\\\Documents\\\\UTS\\\\Coding Assignment/Genesis1.txt' mode='r' encoding='utf-8'>\n"
     ]
    }
   ],
   "source": [
    "print(file1)"
   ]
  },
  {
   "cell_type": "code",
   "execution_count": 10,
   "metadata": {},
   "outputs": [],
   "source": [
    "for line in file1:\n",
    "    print(line)"
   ]
  },
  {
   "cell_type": "code",
   "execution_count": 11,
   "metadata": {},
   "outputs": [
    {
     "name": "stdout",
     "output_type": "stream",
     "text": [
      "GENESIS 1\r\n",
      "The Beginning\r\n",
      "1In the beginning God created the heavens and the earth. 2Now the earth was formless and empty, darkness was over the surface of the deep, and the Spirit of God was hovering over the waters.\r\n",
      "3And God said, “Let there be light,” and there was light. 4God saw that the light was good, and he separated the light from the darkness. 5God called the light “day,” and the darkness he called “night.” And there was evening, and there was morning—the first day.\r\n",
      "6And God said, “Let there be a vault between the waters to separate water from water.” 7So God made the vault and separated the water under the vault from the water above it. And it was so. 8God called the vault “sky.” And there was evening, and there was morning—the second day.\r\n",
      "9And God said, “Let the water under the sky be gathered to one place, and let dry ground appear.” And it was so. 10God called the dry ground “land,” and the gathered waters he called “seas.” And God saw that it was good.\r\n",
      "11Then God said, “Let the land produce vegetation: seed-bearing plants and trees on the land that bear fruit with seed in it, according to their various kinds.” And it was so. 12The land produced vegetation: plants bearing seed according to their kinds and trees bearing fruit with seed in it according to their kinds. And God saw that it was good. 13And there was evening, and there was morning—the third day.\r\n",
      "14And God said, “Let there be lights in the vault of the sky to separate the day from the night, and let them serve as signs to mark sacred times, and days and years, 15and let them be lights in the vault of the sky to give light on the earth.” And it was so. 16God made two great lights—the greater light to govern the day and the lesser light to govern the night. He also made the stars. 17God set them in the vault of the sky to give light on the earth, 18to govern the day and the night, and to separate light from darkness. And God saw that it was good. 19And there was evening, and there was morning—the fourth day.\r\n",
      "20And God said, “Let the water teem with living creatures, and let birds fly above the earth across the vault of the sky.” 21So God created the great creatures of the sea and every living thing with which the water teems and that moves about in it, according to their kinds, and every winged bird according to its kind. And God saw that it was good. 22God blessed them and said, “Be fruitful and increase in number and fill the water in the seas, and let the birds increase on the earth.” 23And there was evening, and there was morning—the fifth day.\r\n",
      "24And God said, “Let the land produce living creatures according to their kinds: the livestock, the creatures that move along the ground, and the wild animals, each according to its kind.” And it was so. 25God made the wild animals according to their kinds, the livestock according to their kinds, and all the creatures that move along the ground according to their kinds. And God saw that it was good.\r\n",
      "26Then God said, “Let us make mankind in our image, in our likeness, so that they may rule over the fish in the sea and the birds in the sky, over the livestock and all the wild animals, and over all the creatures that move along the ground.”\r\n",
      "27So God created mankind in his own image,\r\n",
      "in the image of God he created them;\r\n",
      "male and female he created them.\r\n",
      "28God blessed them and said to them, “Be fruitful and increase in number; fill the earth and subdue it. Rule over the fish in the sea and the birds in the sky and over every living creature that moves on the ground.”\r\n",
      "29Then God said, “I give you every seed-bearing plant on the face of the whole earth and every tree that has fruit with seed in it. They will be yours for food. 30And to all the beasts of the earth and all the birds in the sky and all the creatures that move along the ground—everything that has the breath of life in it—I give every green plant for food.” And it was so.\r\n",
      "31God saw all that he had made, and it was very good. And there was evening, and there was morning—the sixth day.\n"
     ]
    },
    {
     "name": "stderr",
     "output_type": "stream",
     "text": [
      "[nltk_data] Downloading package punkt to\n",
      "[nltk_data]     C:\\Users\\jingn\\AppData\\Roaming\\nltk_data...\n",
      "[nltk_data]   Package punkt is already up-to-date!\n"
     ]
    }
   ],
   "source": [
    "#install nltk from anaconda prompt using \"pip install nltk\"\n",
    "import nltk\n",
    "#Download punkt package, used part of the other commands\n",
    "nltk.download('punkt')\n",
    "\n",
    "from nltk.corpus.reader.plaintext import PlaintextCorpusReader\n",
    "\n",
    "#Read the file into a corpus. The same command can read an entire directory\n",
    "corpus=PlaintextCorpusReader(os.getcwd(),\"Genesis1.txt\")\n",
    "\n",
    "#Print raw contents of the corpus\n",
    "print(corpus.raw())"
   ]
  },
  {
   "cell_type": "code",
   "execution_count": 12,
   "metadata": {},
   "outputs": [
    {
     "name": "stdout",
     "output_type": "stream",
     "text": [
      "Files in this corpus :  ['Genesis1.txt']\n",
      "\n",
      " Total paragraphs in this corpus :  1\n",
      "\n",
      " Total sentences in this corpus :  33\n",
      "\n",
      " The first sentence :  ['GENESIS', '1', 'The', 'Beginning', '1In', 'the', 'beginning', 'God', 'created', 'the', 'heavens', 'and', 'the', 'earth', '.']\n",
      "\n",
      " Words in this corpus :  ['GENESIS', '1', 'The', 'Beginning', '1In', 'the', ...]\n"
     ]
    }
   ],
   "source": [
    "#Extract the file IDs from the corpus\n",
    "print(\"Files in this corpus : \", corpus.fileids())\n",
    "\n",
    "#Extract paragraphs from the corpus\n",
    "paragraphs=corpus.paras()\n",
    "print(\"\\n Total paragraphs in this corpus : \", len(paragraphs))\n",
    "\n",
    "#Extract sentences from the corpus\n",
    "sentences=corpus.sents()\n",
    "print(\"\\n Total sentences in this corpus : \", len(sentences))\n",
    "print(\"\\n The first sentence : \", sentences[0])\n",
    "\n",
    "#Extract words from the corpus\n",
    "print(\"\\n Words in this corpus : \",corpus.words() )"
   ]
  },
  {
   "cell_type": "code",
   "execution_count": 13,
   "metadata": {},
   "outputs": [
    {
     "name": "stdout",
     "output_type": "stream",
     "text": [
      "Top 10 words in the corpus :  [('the', 92), ('and', 46), (',', 42), ('.', 33), ('was', 29), ('to', 21), ('God', 20), ('in', 20), ('it', 19), ('that', 17)]\n",
      "\n",
      " Distribution for \"God\" :  20\n"
     ]
    }
   ],
   "source": [
    "#Find the frequency distribution of words in the corpus\n",
    "course_freq_dist=nltk.FreqDist(corpus.words())\n",
    "\n",
    "#Print most commonly used words\n",
    "print(\"Top 10 words in the corpus : \", course_freq_dist.most_common(10))\n",
    "\n",
    "#find the distribution for a specific word\n",
    "print(\"\\n Distribution for \\\"God\\\" : \",course_freq_dist.get(\"God\"))"
   ]
  },
  {
   "cell_type": "code",
   "execution_count": 15,
   "metadata": {},
   "outputs": [
    {
     "name": "stdout",
     "output_type": "stream",
     "text": [
      "Token List :  ['GENESIS', '1', 'The', 'Beginning', '1In', 'the', 'beginning', 'God', 'created', 'the', 'heavens', 'and', 'the', 'earth', '.', '2Now', 'the', 'earth', 'was', 'formless']\n",
      "\n",
      " Total Tokens :  871\n"
     ]
    }
   ],
   "source": [
    "import nltk\n",
    "import os\n",
    "\n",
    "\n",
    "#Read the base file into a raw text variable\n",
    "base_file = open(os.getcwd()+ \"/Genesis1.txt\", 'rt', encoding='utf-8')\n",
    "raw_text = base_file.read()\n",
    "base_file.close()\n",
    "\n",
    "#Extract tokens\n",
    "token_list = nltk.word_tokenize(raw_text)\n",
    "print(\"Token List : \",token_list[:20])\n",
    "print(\"\\n Total Tokens : \",len(token_list))"
   ]
  },
  {
   "cell_type": "code",
   "execution_count": 17,
   "metadata": {},
   "outputs": [
    {
     "name": "stdout",
     "output_type": "stream",
     "text": [
      "Token List after removing punctuation :  ['GENESIS', '1', 'The', 'Beginning', '1In', 'the', 'beginning', 'God', 'created', 'the', 'heavens', 'and', 'the', 'earth', '2Now', 'the', 'earth', 'was', 'formless', 'and']\n",
      "\n",
      "Total tokens after removing punctuation :  756\n"
     ]
    }
   ],
   "source": [
    "#Use the Punkt library to extract tokens\n",
    "token_list2 = list(filter(lambda token: nltk.tokenize.punkt.PunktToken(token).is_non_punct, token_list))\n",
    "print(\"Token List after removing punctuation : \",token_list2[:20])\n",
    "print(\"\\nTotal tokens after removing punctuation : \", len(token_list2))"
   ]
  },
  {
   "cell_type": "code",
   "execution_count": 18,
   "metadata": {},
   "outputs": [
    {
     "name": "stdout",
     "output_type": "stream",
     "text": [
      "Token list after converting to lower case :  ['genesis', '1', 'the', 'beginning', '1in', 'the', 'beginning', 'god', 'created', 'the', 'heavens', 'and', 'the', 'earth', '2now', 'the', 'earth', 'was', 'formless', 'and']\n",
      "\n",
      "Total tokens after converting to lower case :  756\n"
     ]
    }
   ],
   "source": [
    "token_list3=[word.lower() for word in token_list2 ]\n",
    "print(\"Token list after converting to lower case : \", token_list3[:20])\n",
    "print(\"\\nTotal tokens after converting to lower case : \", len(token_list3))"
   ]
  },
  {
   "cell_type": "code",
   "execution_count": 19,
   "metadata": {},
   "outputs": [
    {
     "name": "stdout",
     "output_type": "stream",
     "text": [
      "Token list after removing stop words :  ['genesis', '1', 'beginning', '1in', 'beginning', 'god', 'created', 'heavens', 'earth', '2now', 'earth', 'formless', 'empty', 'darkness', 'surface', 'deep', 'spirit', 'god', 'hovering', 'waters']\n",
      "\n",
      "Total tokens after removing stop words :  382\n"
     ]
    },
    {
     "name": "stderr",
     "output_type": "stream",
     "text": [
      "[nltk_data] Downloading package stopwords to\n",
      "[nltk_data]     C:\\Users\\jingn\\AppData\\Roaming\\nltk_data...\n",
      "[nltk_data]   Package stopwords is already up-to-date!\n"
     ]
    }
   ],
   "source": [
    "#Download the standard stopword list\n",
    "nltk.download('stopwords')\n",
    "from nltk.corpus import stopwords\n",
    "\n",
    "#Remove stopwords\n",
    "token_list4 = list(filter(lambda token: token not in stopwords.words('english'), token_list3))\n",
    "print(\"Token list after removing stop words : \", token_list4[:20])\n",
    "print(\"\\nTotal tokens after removing stop words : \", len(token_list4))"
   ]
  },
  {
   "cell_type": "code",
   "execution_count": 20,
   "metadata": {},
   "outputs": [
    {
     "name": "stdout",
     "output_type": "stream",
     "text": [
      "Token list after stemming :  ['genesi', '1', 'begin', '1in', 'begin', 'god', 'creat', 'heaven', 'earth', '2now', 'earth', 'formless', 'empti', 'dark', 'surfac', 'deep', 'spirit', 'god', 'hover', 'water']\n",
      "\n",
      "Total tokens after Stemming :  382\n"
     ]
    }
   ],
   "source": [
    "#Use the PorterStemmer library for stemming.\n",
    "from nltk.stem import PorterStemmer\n",
    "stemmer = PorterStemmer()\n",
    "\n",
    "#Stem data\n",
    "token_list5 = [stemmer.stem(word) for word in token_list4 ]\n",
    "print(\"Token list after stemming : \", token_list5[:20])\n",
    "print(\"\\nTotal tokens after Stemming : \", len(token_list5))"
   ]
  },
  {
   "cell_type": "code",
   "execution_count": 21,
   "metadata": {},
   "outputs": [
    {
     "name": "stderr",
     "output_type": "stream",
     "text": [
      "[nltk_data] Downloading package wordnet to\n",
      "[nltk_data]     C:\\Users\\jingn\\AppData\\Roaming\\nltk_data...\n",
      "[nltk_data]   Package wordnet is already up-to-date!\n"
     ]
    },
    {
     "name": "stdout",
     "output_type": "stream",
     "text": [
      "Token list after Lemmatization :  ['genesis', '1', 'beginning', '1in', 'beginning', 'god', 'created', 'heaven', 'earth', '2now', 'earth', 'formless', 'empty', 'darkness', 'surface', 'deep', 'spirit', 'god', 'hovering', 'water']\n",
      "\n",
      "Total tokens after Lemmatization :  382\n"
     ]
    }
   ],
   "source": [
    "#Use the wordnet library to map words to their lemmatized form\n",
    "nltk.download('wordnet')\n",
    "from nltk.stem import WordNetLemmatizer\n",
    "\n",
    "lemmatizer = WordNetLemmatizer()\n",
    "token_list6 = [lemmatizer.lemmatize(word) for word in token_list4 ]\n",
    "print(\"Token list after Lemmatization : \", token_list6[:20])\n",
    "print(\"\\nTotal tokens after Lemmatization : \", len(token_list6))"
   ]
  },
  {
   "cell_type": "code",
   "execution_count": 22,
   "metadata": {},
   "outputs": [
    {
     "name": "stdout",
     "output_type": "stream",
     "text": [
      "Raw :  3and  , Stemmed :  3and  , Lemmatized :  3and\n"
     ]
    }
   ],
   "source": [
    "#Check for token technlogies\n",
    "print( \"Raw : \", token_list4[20],\" , Stemmed : \", token_list5[20], \" , Lemmatized : \", token_list6[20])\n"
   ]
  },
  {
   "cell_type": "code",
   "execution_count": 23,
   "metadata": {},
   "outputs": [
    {
     "name": "stderr",
     "output_type": "stream",
     "text": [
      "[nltk_data] Downloading package punkt to\n",
      "[nltk_data]     C:\\Users\\jingn\\AppData\\Roaming\\nltk_data...\n",
      "[nltk_data]   Package punkt is already up-to-date!\n",
      "[nltk_data] Downloading package stopwords to\n",
      "[nltk_data]     C:\\Users\\jingn\\AppData\\Roaming\\nltk_data...\n",
      "[nltk_data]   Package stopwords is already up-to-date!\n"
     ]
    },
    {
     "name": "stdout",
     "output_type": "stream",
     "text": [
      "\n",
      " Total Tokens :  382\n"
     ]
    },
    {
     "name": "stderr",
     "output_type": "stream",
     "text": [
      "[nltk_data] Downloading package wordnet to\n",
      "[nltk_data]     C:\\Users\\jingn\\AppData\\Roaming\\nltk_data...\n",
      "[nltk_data]   Package wordnet is already up-to-date!\n"
     ]
    }
   ],
   "source": [
    "#Prepare data for use in this exercise\n",
    "\n",
    "import nltk\n",
    "import os\n",
    "#Download punkt package, used part of the other commands\n",
    "nltk.download('punkt')\n",
    "\n",
    "#Read the base file into a token list\n",
    "base_file = open(os.getcwd()+ \"/Genesis1.txt\", 'rt', encoding='utf-8')\n",
    "raw_text = base_file.read()\n",
    "base_file.close()\n",
    "\n",
    "#Execute the same pre-processing done in module 3\n",
    "token_list = nltk.word_tokenize(raw_text)\n",
    "\n",
    "token_list2 = list(filter(lambda token: nltk.tokenize.punkt.PunktToken(token).is_non_punct, token_list))\n",
    "\n",
    "token_list3=[word.lower() for word in token_list2 ]\n",
    "\n",
    "nltk.download('stopwords')\n",
    "from nltk.corpus import stopwords\n",
    "token_list4 = list(filter(lambda token: token not in stopwords.words('english'), token_list3))\n",
    "\n",
    "nltk.download('wordnet')\n",
    "from nltk.stem import WordNetLemmatizer\n",
    "lemmatizer = WordNetLemmatizer()\n",
    "token_list6 = [lemmatizer.lemmatize(word) for word in token_list4 ]\n",
    "\n",
    "print(\"\\n Total Tokens : \",len(token_list6))"
   ]
  },
  {
   "cell_type": "code",
   "execution_count": 24,
   "metadata": {},
   "outputs": [
    {
     "name": "stdout",
     "output_type": "stream",
     "text": [
      "Most common bigrams : \n",
      "[(('god', 'said'), 9), (('said', 'let'), 8), (('according', 'kind'), 8), (('evening', 'morning—the'), 6), (('god', 'saw'), 5)]\n",
      " \n",
      " Most common trigrams : \n",
      "[(('god', 'said', 'let'), 8), (('god', 'saw', 'good'), 5), (('creature', 'move', 'along'), 4), (('according', 'kind', 'god'), 3), (('kind', 'god', 'saw'), 3)]\n"
     ]
    }
   ],
   "source": [
    "from nltk.util import ngrams\n",
    "from collections import Counter\n",
    "\n",
    "#Find bigrams and print the most common 5\n",
    "bigrams = ngrams(token_list6,2)\n",
    "print(\"Most common bigrams : \")\n",
    "print(Counter(bigrams).most_common(5))\n",
    "\n",
    "#Find trigrams and print the most common 5\n",
    "trigrams = ngrams(token_list6,3)\n",
    "print(\" \\n Most common trigrams : \" )\n",
    "print(Counter(trigrams).most_common(5))"
   ]
  },
  {
   "cell_type": "code",
   "execution_count": 25,
   "metadata": {},
   "outputs": [
    {
     "name": "stderr",
     "output_type": "stream",
     "text": [
      "[nltk_data] Downloading package averaged_perceptron_tagger to\n",
      "[nltk_data]     C:\\Users\\jingn\\AppData\\Roaming\\nltk_data...\n",
      "[nltk_data]   Package averaged_perceptron_tagger is already up-to-\n",
      "[nltk_data]       date!\n"
     ]
    },
    {
     "data": {
      "text/plain": [
       "[('genesis', 'NN'),\n",
       " ('1', 'CD'),\n",
       " ('beginning', 'VBG'),\n",
       " ('1in', 'CD'),\n",
       " ('beginning', 'VBG'),\n",
       " ('god', 'NNS'),\n",
       " ('created', 'VBN'),\n",
       " ('heavens', 'NNS'),\n",
       " ('earth', 'RB'),\n",
       " ('2now', 'CD')]"
      ]
     },
     "execution_count": 25,
     "metadata": {},
     "output_type": "execute_result"
    }
   ],
   "source": [
    "#download the tagger package\n",
    "nltk.download('averaged_perceptron_tagger')\n",
    "\n",
    "#Tag and print the first 10 tokens\n",
    "nltk.pos_tag(token_list4)[:10]"
   ]
  },
  {
   "cell_type": "code",
   "execution_count": 26,
   "metadata": {},
   "outputs": [
    {
     "name": "stdout",
     "output_type": "stream",
     "text": [
      "File data sample :  GENESIS 1\n",
      "The Beginning\n",
      "1In the beginning God created the heavens and the earth. 2Now the earth was formless and empty, darkness was over the surface of the deep, and the Spirit of God was hovering ov\n"
     ]
    }
   ],
   "source": [
    "#to install wordcloud - execute \"pip install wordcloud\" from Anaconda prompt\n",
    "\n",
    "#read the course descriptions\n",
    "with open(\"Genesis1.txt\", 'r', encoding='utf-8') as fh:  \n",
    "    filedata = fh.read()\n",
    "\n",
    "#check contents\n",
    "print(\"File data sample : \", filedata[:200])\n",
    "\n",
    "# Create stopword list:\n",
    "from wordcloud import WordCloud, STOPWORDS\n",
    "stopwords = set(STOPWORDS)\n",
    "\n",
    "#Generate wordcloud data\n",
    "wordcloud = WordCloud(stopwords=stopwords, max_words=25, \\\n",
    "                      background_color=\"white\").generate(filedata)"
   ]
  },
  {
   "cell_type": "code",
   "execution_count": 27,
   "metadata": {},
   "outputs": [
    {
     "data": {
      "image/png": "[encoded data removed]",
      "text/plain": [
       "<Figure size 432x288 with 1 Axes>"
      ]
     },
     "metadata": {
      "needs_background": "light"
     },
     "output_type": "display_data"
    }
   ],
   "source": [
    "import matplotlib.pyplot as mpLib\n",
    "mpLib.imshow(wordcloud)\n",
    "mpLib.axis(\"off\")\n",
    "mpLib.show()"
   ]
  },
  {
   "cell_type": "code",
   "execution_count": 28,
   "metadata": {},
   "outputs": [
    {
     "data": {
      "image/png": "[encoded data removed]",
      "text/plain": [
       "<Figure size 432x288 with 1 Axes>"
      ]
     },
     "metadata": {
      "needs_background": "light"
     },
     "output_type": "display_data"
    }
   ],
   "source": [
    "#Add more words to ignore \n",
    "stopwords.update([\"let\",\"according\", \"said\", \"kind\"])\n",
    "\n",
    "#Redo stop words. Limit number of words\n",
    "wordcloud = WordCloud(stopwords=stopwords, max_words=10, \\\n",
    "                      background_color=\"azure\").generate(filedata)\n",
    "\n",
    "mpLib.imshow(wordcloud)\n",
    "mpLib.axis(\"off\")\n",
    "mpLib.show()"
   ]
  },
  {
   "cell_type": "code",
   "execution_count": 29,
   "metadata": {},
   "outputs": [
    {
     "name": "stdout",
     "output_type": "stream",
     "text": [
      "['GENESIS 1\\n', 'The Beginning\\n']\n"
     ]
    }
   ],
   "source": [
    "#Import the Genesis 1 corpus\n",
    "with open(\"Genesis1.txt\", 'r', encoding='utf-8') as fh:  \n",
    "    reviews = fh.readlines()\n",
    "print(reviews[:2])\n"
   ]
  },
  {
   "cell_type": "code",
   "execution_count": 30,
   "metadata": {},
   "outputs": [
    {
     "name": "stdout",
     "output_type": "stream",
     "text": [
      "Review                                   : Polarity   : Subjectivity\n",
      "GENESIS 1\n",
      "                               :    0.00    :   0.00\n",
      "The Beginning\n",
      "                           :    0.00    :   0.00\n",
      "1In the beginning God created the heaven :   -0.05    :   0.45\n",
      "3And God said, “Let there be light,” and :    0.42    :   0.63\n",
      "6And God said, “Let there be a vault bet :    0.00    :   0.05\n",
      "9And God said, “Let the water under the  :    0.19    :   0.60\n",
      "11Then God said, “Let the land produce v :    0.23    :   0.37\n",
      "14And God said, “Let there be lights in  :    0.40    :   0.58\n",
      "20And God said, “Let the water teem with :    0.58    :   0.65\n",
      "24And God said, “Let the land produce li :    0.38    :   0.58\n",
      "26Then God said, “Let us make mankind in :    0.10    :   0.40\n",
      "27So God created mankind in his own imag :    0.60    :   1.00\n",
      "in the image of God he created them;\n",
      "    :    0.00    :   0.00\n",
      "male and female he created them.\n",
      "        :    0.00    :   0.13\n",
      "28God blessed them and said to them, “Be :    0.00    :   0.00\n",
      "29Then God said, “I give you every seed- :    0.00    :   0.35\n",
      "31God saw all that he had made, and it w :    0.91    :   0.78\n"
     ]
    }
   ],
   "source": [
    "#install textblob if not already installed using \"pip install -U textblob\"\n",
    "from textblob import TextBlob\n",
    "\n",
    "print('{:40} : {:10} : {:10}'.format(\"Review\", \"Polarity\", \"Subjectivity\") )\n",
    "\n",
    "for review in reviews:\n",
    "    #Find sentiment of a review\n",
    "    sentiment = TextBlob(review)\n",
    "    #Print individual sentiments\n",
    "    print('{:40} :   {: 01.2f}    :   {:01.2f}'.format(review[:40]\\\n",
    "                , sentiment.polarity, sentiment.subjectivity) )"
   ]
  },
  {
   "cell_type": "code",
   "execution_count": 31,
   "metadata": {},
   "outputs": [
    {
     "name": "stdout",
     "output_type": "stream",
     "text": [
      "Final summarized counts : [10, 5, 2]\n",
      "\n",
      " Pie Representation \n",
      "-------------------\n"
     ]
    },
    {
     "data": {
      "image/png": "[encoded data removed]",
      "text/plain": [
       "<Figure size 432x288 with 1 Axes>"
      ]
     },
     "metadata": {},
     "output_type": "display_data"
    }
   ],
   "source": [
    "#Categorize Polarity into Positive, Neutral or Negative\n",
    "labels = [\"Negative\", \"Neutral\", \"Positive\"]\n",
    "#Initialize count array\n",
    "values =[0,0,0]\n",
    "\n",
    "#Categorize each review\n",
    "for review in reviews:\n",
    "    sentiment = TextBlob(review)\n",
    "    \n",
    "    #Custom formula to convert polarity \n",
    "    # 0 = (Negative) 1 = (Neutral) 2=(Positive)\n",
    "    polarity = round(( sentiment.polarity + 1 ) * 3 ) % 3\n",
    "    \n",
    "    #add the summary array\n",
    "    values[polarity] = values[polarity] + 1\n",
    "    \n",
    "print(\"Final summarized counts :\", values)\n",
    "\n",
    "import matplotlib.pyplot as plt\n",
    "#Set colors by label\n",
    "colors=[\"Green\",\"Blue\",\"Red\"]\n",
    "\n",
    "print(\"\\n Pie Representation \\n-------------------\")\n",
    "#Plot a pie chart\n",
    "plt.pie(values, labels=labels, colors=colors, \\\n",
    "        autopct='%1.1f%%', shadow=True, startangle=140)\n",
    "plt.axis('equal')\n",
    "plt.show()"
   ]
  },
  {
   "cell_type": "code",
   "execution_count": 32,
   "metadata": {},
   "outputs": [
    {
     "name": "stdout",
     "output_type": "stream",
     "text": [
      "Sample Genesis descriptions : ['GENESIS 1', 'The Beginning']\n"
     ]
    },
    {
     "name": "stderr",
     "output_type": "stream",
     "text": [
      "[nltk_data] Downloading package stopwords to\n",
      "[nltk_data]     C:\\Users\\jingn\\AppData\\Roaming\\nltk_data...\n",
      "[nltk_data]   Package stopwords is already up-to-date!\n",
      "[nltk_data] Downloading package wordnet to\n",
      "[nltk_data]     C:\\Users\\jingn\\AppData\\Roaming\\nltk_data...\n",
      "[nltk_data]   Package wordnet is already up-to-date!\n"
     ]
    },
    {
     "name": "stdout",
     "output_type": "stream",
     "text": [
      "\n",
      "Sample feature names identified :  [',', '.', '1', '10god', '11then', '12the', '13and', '14and', '15and', '16god', '17god', '18to', '19and', '1in', '20and', '21so', '22god', '23and', '24and', '25god', '26then', '27so', '28god', '29then', '2now']\n",
      "\n",
      "Size of TFIDF matrix :  (17, 158)\n"
     ]
    }
   ],
   "source": [
    "#Read course descriptions\n",
    "with open(\"Genesis1.txt\", 'r', encoding='utf-8') as fh:  \n",
    "    descriptions = fh.read().splitlines()\n",
    "print(\"Sample Genesis descriptions :\", descriptions[:2])\n",
    "\n",
    "#Setup stopwords\n",
    "import nltk\n",
    "nltk.download('stopwords')\n",
    "from nltk.corpus import stopwords\n",
    "\n",
    "#setup wordnet for lemmatization\n",
    "nltk.download('wordnet')\n",
    "from nltk.stem import WordNetLemmatizer\n",
    "lemmatizer = WordNetLemmatizer()\n",
    "\n",
    "from sklearn.feature_extraction.text import TfidfVectorizer\n",
    "\n",
    "#Custom tokenizer that will perform tokenization, stopword removal\n",
    "#and lemmatization\n",
    "def customtokenize(str):\n",
    "    tokens=nltk.word_tokenize(str)\n",
    "    nostop = list(filter(lambda token: token not in stopwords.words('english'), tokens))\n",
    "    lemmatized=[lemmatizer.lemmatize(word) for word in nostop ]\n",
    "    return lemmatized\n",
    "\n",
    "#Generate TFIDF matrix\n",
    "vectorizer = TfidfVectorizer(tokenizer=customtokenize)\n",
    "tfidf=vectorizer.fit_transform(descriptions)\n",
    "\n",
    "print(\"\\nSample feature names identified : \", vectorizer.get_feature_names()[:25])\n",
    "print(\"\\nSize of TFIDF matrix : \",tfidf.shape)"
   ]
  },
  {
   "cell_type": "code",
   "execution_count": 34,
   "metadata": {},
   "outputs": [
    {
     "name": "stdout",
     "output_type": "stream",
     "text": [
      "Text read from file :  GENESIS 1\n",
      "The Beginning\n",
      "1In the beginning God created the heavens and the earth. 2Now the earth was formless and empty, darkness was over the surface of the deep, and the Spirit of God was hovering ov\n",
      "\n",
      "Sample token list :  ['genesis', '1', 'the', 'beginning', '1in', 'the', 'beginning', 'god', 'created', 'the']\n",
      "\n",
      "Total Tokens :  756\n"
     ]
    }
   ],
   "source": [
    "import os\n",
    "#Read course description file\n",
    "base_file = open(\"Genesis1.txt\", 'rt', encoding='utf-8')\n",
    "raw_text = base_file.read()\n",
    "base_file.close()\n",
    "print(\"Text read from file : \",raw_text[:200])\n",
    "\n",
    "#tokenization\n",
    "import nltk\n",
    "token_list = nltk.word_tokenize(raw_text)\n",
    "\n",
    "#Replace special characters\n",
    "token_list2 = [word.replace(\"'\", \"\") for word in token_list ]\n",
    "\n",
    "#Remove punctuations\n",
    "token_list3 = list(filter(lambda token: nltk.tokenize.punkt.PunktToken(token).is_non_punct, token_list2))\n",
    "\n",
    "#Convert to lower case\n",
    "token_list4=[word.lower() for word in token_list3 ]\n",
    "\n",
    "print(\"\\nSample token list : \", token_list4[:10])\n",
    "print(\"\\nTotal Tokens : \",len(token_list4))"
   ]
  },
  {
   "cell_type": "code",
   "execution_count": 35,
   "metadata": {},
   "outputs": [
    {
     "name": "stdout",
     "output_type": "stream",
     "text": [
      "FIRST= genesis SECOND= 1 COUNT= 1\n",
      "FIRST= 1 SECOND= the COUNT= 1\n",
      "FIRST= the SECOND= beginning COUNT= 2\n",
      "FIRST= beginning SECOND= 1in COUNT= 1\n",
      "FIRST= 1in SECOND= the COUNT= 1\n"
     ]
    }
   ],
   "source": [
    "from nltk.util import ngrams\n",
    "\n",
    "#Use a sqlite database to store ngrams information\n",
    "import sqlite3\n",
    "conn = sqlite3.connect(\":memory:\")\n",
    "\n",
    "#table to store first word, second word and count of occurance\n",
    "conn.execute('''DROP TABLE IF EXISTS NGRAMS''')\n",
    "conn.execute('''CREATE TABLE NGRAMS \n",
    "         (FIRST   TEXT  NOT NULL,\n",
    "          SECOND  TEXT  NOT NULL,\n",
    "          COUNTS  INT   NOT NULL,\n",
    "         CONSTRAINT PK_GRAMS PRIMARY KEY (FIRST,SECOND));''')\n",
    "\n",
    "#Generate bigrams\n",
    "bigrams = ngrams(token_list4,2)\n",
    "\n",
    "#Store bigrams in DB\n",
    "for i in bigrams:\n",
    "    insert_str=\"INSERT INTO NGRAMS (FIRST,SECOND,COUNTS) \\\n",
    "          VALUES ('\" + i[0] + \"','\" + i[1] + \"',1 ) \\\n",
    "          ON CONFLICT(FIRST,SECOND) DO UPDATE SET COUNTS=COUNTS + 1\"   \n",
    "    conn.execute(insert_str);\n",
    "\n",
    "#Look at sample data from the table\n",
    "cursor = conn.execute(\"SELECT FIRST, SECOND, COUNTS from NGRAMS LIMIT 5\")\n",
    "for gram_row in cursor:\n",
    "    print(\"FIRST=\", gram_row[0], \"SECOND=\",gram_row[1],\"COUNT=\",gram_row[2])"
   ]
  },
  {
   "cell_type": "code",
   "execution_count": 36,
   "metadata": {},
   "outputs": [
    {
     "name": "stdout",
     "output_type": "stream",
     "text": [
      "Next word for God  []\n",
      "\n",
      "Next word for created  ['the', 'them', 'mankind']\n"
     ]
    }
   ],
   "source": [
    "#Function to query DB and find next word\n",
    "def recommend(str):\n",
    "    nextwords = []\n",
    "    #Find next words, sort them by most occurance\n",
    "    cur_filter = conn.execute(\"SELECT SECOND from NGRAMS \\\n",
    "                              WHERE FIRST='\" + str + \"' \\\n",
    "                              ORDER BY COUNTS DESC\")\n",
    "    \n",
    "    #Build a list ordered from most frequent to least frequent next word\n",
    "    for filt_row in cur_filter:\n",
    "        nextwords.append(filt_row[0])\n",
    "    return nextwords\n",
    "\n",
    "#Recommend for words data and science\n",
    "print(\"Next word for God \", recommend(\"God\"))\n",
    "print(\"\\nNext word for created \", recommend(\"created\"))"
   ]
  },
  {
   "cell_type": "code",
   "execution_count": 37,
   "metadata": {},
   "outputs": [
    {
     "name": "stdout",
     "output_type": "stream",
     "text": [
      "Next word for said  ['let', 'be', 'i', 'to']\n",
      "\n",
      "Next word for saw  ['that', 'all']\n"
     ]
    }
   ],
   "source": [
    "#Function to query DB and find next word\n",
    "def recommend(str):\n",
    "    nextwords = []\n",
    "    #Find next words, sort them by most occurance\n",
    "    cur_filter = conn.execute(\"SELECT SECOND from NGRAMS \\\n",
    "                              WHERE FIRST='\" + str + \"' \\\n",
    "                              ORDER BY COUNTS DESC\")\n",
    "    \n",
    "    #Build a list ordered from most frequent to least frequent next word\n",
    "    for filt_row in cur_filter:\n",
    "        nextwords.append(filt_row[0])\n",
    "    return nextwords\n",
    "\n",
    "#Recommend for words data and science\n",
    "print(\"Next word for said \", recommend(\"said\"))\n",
    "print(\"\\nNext word for saw \", recommend(\"saw\"))"
   ]
  },
  {
   "cell_type": "code",
   "execution_count": null,
   "metadata": {},
   "outputs": [],
   "source": []
  }
 ],
 "metadata": {
  "kernelspec": {
   "display_name": "Python 3",
   "language": "python",
   "name": "python3"
  },
  "language_info": {
   "codemirror_mode": {
    "name": "ipython",
    "version": 3
   },
   "file_extension": ".py",
   "mimetype": "text/x-python",
   "name": "python",
   "nbconvert_exporter": "python",
   "pygments_lexer": "ipython3",
   "version": "3.8.3"
  }
 },
 "nbformat": 4,
 "nbformat_minor": 4
}
